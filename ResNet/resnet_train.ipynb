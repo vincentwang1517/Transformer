import torch
import torch.nn as nn

from resnet_model import *

